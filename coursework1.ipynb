{
 "cells": [
  {
   "cell_type": "code",
   "execution_count": 19,
   "metadata": {},
   "outputs": [],
   "source": [
    "import pandas as pd\n",
    "import numpy as np\n",
    "import matplotlib.pyplot as plt"
   ]
  },
  {
   "cell_type": "markdown",
   "metadata": {},
   "source": [
    "\n",
    "3.1 Problem - 1: Getting Started with Data Exploration - Some Warm up Exercises:\n",
    "1. Data Exploration and Understanding:\n"
   ]
  },
  {
   "cell_type": "markdown",
   "metadata": {},
   "source": [
    "\n",
    "• Dataset Overview:\n",
    "1. Load the dataset and display the first 10 rows.\n",
    "2. Identify the number of rows and columns in the dataset. \n",
    "3. List all the columns and their data types.\n"
   ]
  },
  {
   "cell_type": "code",
   "execution_count": 2,
   "metadata": {},
   "outputs": [
    {
     "data": {
      "text/html": [
       "<div>\n",
       "<style scoped>\n",
       "    .dataframe tbody tr th:only-of-type {\n",
       "        vertical-align: middle;\n",
       "    }\n",
       "\n",
       "    .dataframe tbody tr th {\n",
       "        vertical-align: top;\n",
       "    }\n",
       "\n",
       "    .dataframe thead th {\n",
       "        text-align: right;\n",
       "    }\n",
       "</style>\n",
       "<table border=\"1\" class=\"dataframe\">\n",
       "  <thead>\n",
       "    <tr style=\"text-align: right;\">\n",
       "      <th></th>\n",
       "      <th>Country name</th>\n",
       "      <th>score</th>\n",
       "      <th>Log GDP per capita</th>\n",
       "      <th>Social support</th>\n",
       "      <th>Healthy life expectancy</th>\n",
       "      <th>Freedom to make life choices</th>\n",
       "      <th>Generosity</th>\n",
       "      <th>Perceptions of corruption</th>\n",
       "      <th>Dystopia + residual</th>\n",
       "    </tr>\n",
       "  </thead>\n",
       "  <tbody>\n",
       "    <tr>\n",
       "      <th>0</th>\n",
       "      <td>Finland</td>\n",
       "      <td>7.741</td>\n",
       "      <td>1.844</td>\n",
       "      <td>1.572</td>\n",
       "      <td>0.695</td>\n",
       "      <td>0.859</td>\n",
       "      <td>0.142</td>\n",
       "      <td>0.546</td>\n",
       "      <td>2.082</td>\n",
       "    </tr>\n",
       "    <tr>\n",
       "      <th>1</th>\n",
       "      <td>Denmark</td>\n",
       "      <td>7.583</td>\n",
       "      <td>1.908</td>\n",
       "      <td>1.520</td>\n",
       "      <td>0.699</td>\n",
       "      <td>0.823</td>\n",
       "      <td>0.204</td>\n",
       "      <td>0.548</td>\n",
       "      <td>1.881</td>\n",
       "    </tr>\n",
       "    <tr>\n",
       "      <th>2</th>\n",
       "      <td>Iceland</td>\n",
       "      <td>7.525</td>\n",
       "      <td>1.881</td>\n",
       "      <td>1.617</td>\n",
       "      <td>0.718</td>\n",
       "      <td>0.819</td>\n",
       "      <td>0.258</td>\n",
       "      <td>0.182</td>\n",
       "      <td>2.050</td>\n",
       "    </tr>\n",
       "    <tr>\n",
       "      <th>3</th>\n",
       "      <td>Sweden</td>\n",
       "      <td>7.344</td>\n",
       "      <td>1.878</td>\n",
       "      <td>1.501</td>\n",
       "      <td>0.724</td>\n",
       "      <td>0.838</td>\n",
       "      <td>0.221</td>\n",
       "      <td>0.524</td>\n",
       "      <td>1.658</td>\n",
       "    </tr>\n",
       "    <tr>\n",
       "      <th>4</th>\n",
       "      <td>Israel</td>\n",
       "      <td>7.341</td>\n",
       "      <td>1.803</td>\n",
       "      <td>1.513</td>\n",
       "      <td>0.740</td>\n",
       "      <td>0.641</td>\n",
       "      <td>0.153</td>\n",
       "      <td>0.193</td>\n",
       "      <td>2.298</td>\n",
       "    </tr>\n",
       "    <tr>\n",
       "      <th>5</th>\n",
       "      <td>Netherlands</td>\n",
       "      <td>7.319</td>\n",
       "      <td>1.901</td>\n",
       "      <td>1.462</td>\n",
       "      <td>0.706</td>\n",
       "      <td>0.725</td>\n",
       "      <td>0.247</td>\n",
       "      <td>0.372</td>\n",
       "      <td>1.906</td>\n",
       "    </tr>\n",
       "    <tr>\n",
       "      <th>6</th>\n",
       "      <td>Norway</td>\n",
       "      <td>7.302</td>\n",
       "      <td>1.952</td>\n",
       "      <td>1.517</td>\n",
       "      <td>0.704</td>\n",
       "      <td>0.835</td>\n",
       "      <td>0.224</td>\n",
       "      <td>0.484</td>\n",
       "      <td>1.586</td>\n",
       "    </tr>\n",
       "    <tr>\n",
       "      <th>7</th>\n",
       "      <td>Luxembourg</td>\n",
       "      <td>7.122</td>\n",
       "      <td>2.141</td>\n",
       "      <td>1.355</td>\n",
       "      <td>0.708</td>\n",
       "      <td>0.801</td>\n",
       "      <td>0.146</td>\n",
       "      <td>0.432</td>\n",
       "      <td>1.540</td>\n",
       "    </tr>\n",
       "    <tr>\n",
       "      <th>8</th>\n",
       "      <td>Switzerland</td>\n",
       "      <td>7.060</td>\n",
       "      <td>1.970</td>\n",
       "      <td>1.425</td>\n",
       "      <td>0.747</td>\n",
       "      <td>0.759</td>\n",
       "      <td>0.173</td>\n",
       "      <td>0.498</td>\n",
       "      <td>1.488</td>\n",
       "    </tr>\n",
       "    <tr>\n",
       "      <th>9</th>\n",
       "      <td>Australia</td>\n",
       "      <td>7.057</td>\n",
       "      <td>1.854</td>\n",
       "      <td>1.461</td>\n",
       "      <td>0.692</td>\n",
       "      <td>0.756</td>\n",
       "      <td>0.225</td>\n",
       "      <td>0.323</td>\n",
       "      <td>1.745</td>\n",
       "    </tr>\n",
       "  </tbody>\n",
       "</table>\n",
       "</div>"
      ],
      "text/plain": [
       "  Country name  score  Log GDP per capita  Social support  \\\n",
       "0      Finland  7.741               1.844           1.572   \n",
       "1      Denmark  7.583               1.908           1.520   \n",
       "2      Iceland  7.525               1.881           1.617   \n",
       "3       Sweden  7.344               1.878           1.501   \n",
       "4       Israel  7.341               1.803           1.513   \n",
       "5  Netherlands  7.319               1.901           1.462   \n",
       "6       Norway  7.302               1.952           1.517   \n",
       "7   Luxembourg  7.122               2.141           1.355   \n",
       "8  Switzerland  7.060               1.970           1.425   \n",
       "9    Australia  7.057               1.854           1.461   \n",
       "\n",
       "   Healthy life expectancy  Freedom to make life choices  Generosity  \\\n",
       "0                    0.695                         0.859       0.142   \n",
       "1                    0.699                         0.823       0.204   \n",
       "2                    0.718                         0.819       0.258   \n",
       "3                    0.724                         0.838       0.221   \n",
       "4                    0.740                         0.641       0.153   \n",
       "5                    0.706                         0.725       0.247   \n",
       "6                    0.704                         0.835       0.224   \n",
       "7                    0.708                         0.801       0.146   \n",
       "8                    0.747                         0.759       0.173   \n",
       "9                    0.692                         0.756       0.225   \n",
       "\n",
       "   Perceptions of corruption  Dystopia + residual  \n",
       "0                      0.546                2.082  \n",
       "1                      0.548                1.881  \n",
       "2                      0.182                2.050  \n",
       "3                      0.524                1.658  \n",
       "4                      0.193                2.298  \n",
       "5                      0.372                1.906  \n",
       "6                      0.484                1.586  \n",
       "7                      0.432                1.540  \n",
       "8                      0.498                1.488  \n",
       "9                      0.323                1.745  "
      ]
     },
     "execution_count": 2,
     "metadata": {},
     "output_type": "execute_result"
    }
   ],
   "source": [
    "wlr = pd.read_csv(\"WorldHappinessResult.csv\")\n",
    "wlr.head(10)"
   ]
  },
  {
   "cell_type": "code",
   "execution_count": 10,
   "metadata": {},
   "outputs": [
    {
     "name": "stdout",
     "output_type": "stream",
     "text": [
      "Total number of rows: 143\n",
      "Total number of columns: 9\n"
     ]
    }
   ],
   "source": [
    "row,col = wlr.shape\n",
    "print(f\"Total number of rows: {row}\")\n",
    "print(f\"Total number of columns: {col}\")"
   ]
  },
  {
   "cell_type": "code",
   "execution_count": 16,
   "metadata": {},
   "outputs": [
    {
     "data": {
      "text/plain": [
       "Country name                     object\n",
       "score                           float64\n",
       "Log GDP per capita              float64\n",
       "Social support                  float64\n",
       "Healthy life expectancy         float64\n",
       "Freedom to make life choices    float64\n",
       "Generosity                      float64\n",
       "Perceptions of corruption       float64\n",
       "Dystopia + residual             float64\n",
       "dtype: object"
      ]
     },
     "execution_count": 16,
     "metadata": {},
     "output_type": "execute_result"
    }
   ],
   "source": [
    "wlr.dtypes"
   ]
  },
  {
   "cell_type": "markdown",
   "metadata": {},
   "source": [
    "\n",
    "• Basic Statistics:\n",
    "1. Calculate the mean, median, and standard deviation for the Score column.\n",
    "2. Identify the country with the highest and lowest happiness scores.\n"
   ]
  },
  {
   "cell_type": "code",
   "execution_count": 21,
   "metadata": {},
   "outputs": [
    {
     "name": "stdout",
     "output_type": "stream",
     "text": [
      "Mean of score is: 5.52758041958042\n",
      "Median of score is: 5.785\n",
      "Standard Deviation of score is: 1.1707165099442993\n"
     ]
    }
   ],
   "source": [
    "wlr_mean = wlr['score'].mean()\n",
    "wlr_median = wlr['score'].median()\n",
    "wlr_standard_deviation = wlr['score'].std()\n",
    "print(f\"Mean of score is: {wlr_mean}\")\n",
    "print(f\"Median of score is: {wlr_median}\")\n",
    "print(f\"Standard Deviation of score is: {wlr_standard_deviation}\")\n"
   ]
  },
  {
   "cell_type": "code",
   "execution_count": 25,
   "metadata": {},
   "outputs": [
    {
     "name": "stdout",
     "output_type": "stream",
     "text": [
      "Country with minimum happiness score is: Afghanistan\n",
      "Country with maximum happiness score is: Finland\n"
     ]
    }
   ],
   "source": [
    "country_wlrmin = wlr.loc[wlr['score'].idxmin(),'Country name']\n",
    "country_wlrmax = wlr.loc[wlr['score'].idxmax(),'Country name']\n",
    "print(f\"Country with minimum happiness score is: {country_wlrmin}\")\n",
    "print(f\"Country with maximum happiness score is: {country_wlrmax}\")"
   ]
  },
  {
   "cell_type": "markdown",
   "metadata": {},
   "source": [
    "\n",
    "• Missing Values:\n",
    "1. Check if there are any missing values in the dataset. If so, display the total count for each column.\n"
   ]
  },
  {
   "cell_type": "code",
   "execution_count": 31,
   "metadata": {},
   "outputs": [
    {
     "data": {
      "text/plain": [
       "Country name                    0\n",
       "score                           0\n",
       "Log GDP per capita              3\n",
       "Social support                  3\n",
       "Healthy life expectancy         3\n",
       "Freedom to make life choices    3\n",
       "Generosity                      3\n",
       "Perceptions of corruption       3\n",
       "Dystopia + residual             3\n",
       "dtype: int64"
      ]
     },
     "execution_count": 31,
     "metadata": {},
     "output_type": "execute_result"
    }
   ],
   "source": [
    "wlr.isnull().sum()"
   ]
  },
  {
   "cell_type": "markdown",
   "metadata": {},
   "source": [
    "\n",
    "• Filtering and Sorting:\n",
    "1. Filter the dataset to show only the countries with a Score greater than 7.5.\n",
    "2. For the filtered dataset - Sort the dataset by GDP per Capita in descending order and display the top 10 rows."
   ]
  },
  {
   "cell_type": "code",
   "execution_count": 35,
   "metadata": {},
   "outputs": [
    {
     "name": "stdout",
     "output_type": "stream",
     "text": [
      "Country woth score greater than 7.5 are:\n",
      "0    Finland\n",
      "1    Denmark\n",
      "2    Iceland\n",
      "Name: Country name, dtype: object\n"
     ]
    }
   ],
   "source": [
    "greater_score_country_name = wlr[wlr['score'] >7.5]['Country name']\n",
    "print(f\"Country woth score greater than 7.5 are:\\n{greater_score_country_name}\")"
   ]
  },
  {
   "cell_type": "code",
   "execution_count": 38,
   "metadata": {},
   "outputs": [
    {
     "data": {
      "text/html": [
       "<div>\n",
       "<style scoped>\n",
       "    .dataframe tbody tr th:only-of-type {\n",
       "        vertical-align: middle;\n",
       "    }\n",
       "\n",
       "    .dataframe tbody tr th {\n",
       "        vertical-align: top;\n",
       "    }\n",
       "\n",
       "    .dataframe thead th {\n",
       "        text-align: right;\n",
       "    }\n",
       "</style>\n",
       "<table border=\"1\" class=\"dataframe\">\n",
       "  <thead>\n",
       "    <tr style=\"text-align: right;\">\n",
       "      <th></th>\n",
       "      <th>Country name</th>\n",
       "      <th>score</th>\n",
       "      <th>Log GDP per capita</th>\n",
       "      <th>Social support</th>\n",
       "      <th>Healthy life expectancy</th>\n",
       "      <th>Freedom to make life choices</th>\n",
       "      <th>Generosity</th>\n",
       "      <th>Perceptions of corruption</th>\n",
       "      <th>Dystopia + residual</th>\n",
       "    </tr>\n",
       "  </thead>\n",
       "  <tbody>\n",
       "    <tr>\n",
       "      <th>7</th>\n",
       "      <td>Luxembourg</td>\n",
       "      <td>7.122</td>\n",
       "      <td>2.141</td>\n",
       "      <td>1.355</td>\n",
       "      <td>0.708</td>\n",
       "      <td>0.801</td>\n",
       "      <td>0.146</td>\n",
       "      <td>0.432</td>\n",
       "      <td>1.540</td>\n",
       "    </tr>\n",
       "    <tr>\n",
       "      <th>16</th>\n",
       "      <td>Ireland</td>\n",
       "      <td>6.838</td>\n",
       "      <td>2.129</td>\n",
       "      <td>1.390</td>\n",
       "      <td>0.700</td>\n",
       "      <td>0.758</td>\n",
       "      <td>0.205</td>\n",
       "      <td>0.418</td>\n",
       "      <td>1.239</td>\n",
       "    </tr>\n",
       "    <tr>\n",
       "      <th>29</th>\n",
       "      <td>Singapore</td>\n",
       "      <td>6.523</td>\n",
       "      <td>2.118</td>\n",
       "      <td>1.361</td>\n",
       "      <td>0.769</td>\n",
       "      <td>0.743</td>\n",
       "      <td>0.168</td>\n",
       "      <td>0.575</td>\n",
       "      <td>0.788</td>\n",
       "    </tr>\n",
       "    <tr>\n",
       "      <th>21</th>\n",
       "      <td>United Arab Emirates</td>\n",
       "      <td>6.733</td>\n",
       "      <td>1.983</td>\n",
       "      <td>1.164</td>\n",
       "      <td>0.563</td>\n",
       "      <td>0.815</td>\n",
       "      <td>0.209</td>\n",
       "      <td>0.258</td>\n",
       "      <td>1.741</td>\n",
       "    </tr>\n",
       "    <tr>\n",
       "      <th>8</th>\n",
       "      <td>Switzerland</td>\n",
       "      <td>7.060</td>\n",
       "      <td>1.970</td>\n",
       "      <td>1.425</td>\n",
       "      <td>0.747</td>\n",
       "      <td>0.759</td>\n",
       "      <td>0.173</td>\n",
       "      <td>0.498</td>\n",
       "      <td>1.488</td>\n",
       "    </tr>\n",
       "    <tr>\n",
       "      <th>6</th>\n",
       "      <td>Norway</td>\n",
       "      <td>7.302</td>\n",
       "      <td>1.952</td>\n",
       "      <td>1.517</td>\n",
       "      <td>0.704</td>\n",
       "      <td>0.835</td>\n",
       "      <td>0.224</td>\n",
       "      <td>0.484</td>\n",
       "      <td>1.586</td>\n",
       "    </tr>\n",
       "    <tr>\n",
       "      <th>22</th>\n",
       "      <td>United States</td>\n",
       "      <td>6.725</td>\n",
       "      <td>1.939</td>\n",
       "      <td>1.392</td>\n",
       "      <td>0.542</td>\n",
       "      <td>0.586</td>\n",
       "      <td>0.223</td>\n",
       "      <td>0.169</td>\n",
       "      <td>1.873</td>\n",
       "    </tr>\n",
       "    <tr>\n",
       "      <th>85</th>\n",
       "      <td>Hong Kong S.A.R. of China</td>\n",
       "      <td>5.316</td>\n",
       "      <td>1.909</td>\n",
       "      <td>1.184</td>\n",
       "      <td>0.857</td>\n",
       "      <td>0.485</td>\n",
       "      <td>0.147</td>\n",
       "      <td>0.402</td>\n",
       "      <td>0.333</td>\n",
       "    </tr>\n",
       "    <tr>\n",
       "      <th>1</th>\n",
       "      <td>Denmark</td>\n",
       "      <td>7.583</td>\n",
       "      <td>1.908</td>\n",
       "      <td>1.520</td>\n",
       "      <td>0.699</td>\n",
       "      <td>0.823</td>\n",
       "      <td>0.204</td>\n",
       "      <td>0.548</td>\n",
       "      <td>1.881</td>\n",
       "    </tr>\n",
       "    <tr>\n",
       "      <th>5</th>\n",
       "      <td>Netherlands</td>\n",
       "      <td>7.319</td>\n",
       "      <td>1.901</td>\n",
       "      <td>1.462</td>\n",
       "      <td>0.706</td>\n",
       "      <td>0.725</td>\n",
       "      <td>0.247</td>\n",
       "      <td>0.372</td>\n",
       "      <td>1.906</td>\n",
       "    </tr>\n",
       "  </tbody>\n",
       "</table>\n",
       "</div>"
      ],
      "text/plain": [
       "                 Country name  score  Log GDP per capita  Social support  \\\n",
       "7                  Luxembourg  7.122               2.141           1.355   \n",
       "16                    Ireland  6.838               2.129           1.390   \n",
       "29                  Singapore  6.523               2.118           1.361   \n",
       "21       United Arab Emirates  6.733               1.983           1.164   \n",
       "8                 Switzerland  7.060               1.970           1.425   \n",
       "6                      Norway  7.302               1.952           1.517   \n",
       "22              United States  6.725               1.939           1.392   \n",
       "85  Hong Kong S.A.R. of China  5.316               1.909           1.184   \n",
       "1                     Denmark  7.583               1.908           1.520   \n",
       "5                 Netherlands  7.319               1.901           1.462   \n",
       "\n",
       "    Healthy life expectancy  Freedom to make life choices  Generosity  \\\n",
       "7                     0.708                         0.801       0.146   \n",
       "16                    0.700                         0.758       0.205   \n",
       "29                    0.769                         0.743       0.168   \n",
       "21                    0.563                         0.815       0.209   \n",
       "8                     0.747                         0.759       0.173   \n",
       "6                     0.704                         0.835       0.224   \n",
       "22                    0.542                         0.586       0.223   \n",
       "85                    0.857                         0.485       0.147   \n",
       "1                     0.699                         0.823       0.204   \n",
       "5                     0.706                         0.725       0.247   \n",
       "\n",
       "    Perceptions of corruption  Dystopia + residual  \n",
       "7                       0.432                1.540  \n",
       "16                      0.418                1.239  \n",
       "29                      0.575                0.788  \n",
       "21                      0.258                1.741  \n",
       "8                       0.498                1.488  \n",
       "6                       0.484                1.586  \n",
       "22                      0.169                1.873  \n",
       "85                      0.402                0.333  \n",
       "1                       0.548                1.881  \n",
       "5                       0.372                1.906  "
      ]
     },
     "execution_count": 38,
     "metadata": {},
     "output_type": "execute_result"
    }
   ],
   "source": [
    "filtered_dataset = wlr.sort_values(by = 'Log GDP per capita',ascending=False)\n",
    "filtered_dataset.head(10)\n",
    "#reset index later"
   ]
  },
  {
   "cell_type": "markdown",
   "metadata": {},
   "source": [
    "• Adding New Columns:\n",
    "1. Create a new column called Happiness Category that categorizes countries into three categories based on their Score:\n",
    "Low − (Score < 4) Medium − (4 ≤ Score ≤ 6) High − (Score > 6)"
   ]
  },
  {
   "cell_type": "code",
   "execution_count": 4,
   "metadata": {},
   "outputs": [
    {
     "name": "stdout",
     "output_type": "stream",
     "text": [
      "         Country name  score Happiness_Category\n",
      "0             Finland  7.741               High\n",
      "1             Denmark  7.583               High\n",
      "2             Iceland  7.525               High\n",
      "3              Sweden  7.344               High\n",
      "4              Israel  7.341               High\n",
      "..                ...    ...                ...\n",
      "138  Congo (Kinshasa)  3.295                Low\n",
      "139      Sierra Leone  3.245                Low\n",
      "140           Lesotho  3.186                Low\n",
      "141           Lebanon  2.707                Low\n",
      "142       Afghanistan  1.721                Low\n",
      "\n",
      "[143 rows x 3 columns]\n"
     ]
    }
   ],
   "source": [
    "conditions = [\n",
    "  wlr[\"score\"] < 4,\n",
    "  (wlr[\"score\"] >= 4) & (wlr[\"score\"] <= 6),\n",
    "  wlr[\"score\"] > 6\n",
    "]\n",
    "choices = [\"Low\",\"Medium\",\"High\"]\n",
    "wlr[\"Happiness_Category\"] = np.select(conditions, choices)\n",
    "print(wlr[[\"Country name\",\"score\",\"Happiness_Category\"]])"
   ]
  },
  {
   "cell_type": "markdown",
   "metadata": {},
   "source": [
    "\n",
    "2. Data Visualizations:\n",
    "• Bar Plot: Plot the top 10 happiest countries by Score using a bar chart.\n",
    "• Line Plot: Plot the top 10 unhappiest countries by Score using a Line chart.\n",
    "• Plot a histogram for the Score column to show its distribution and also interpret.\n",
    "• Scatter Plot: Plot a scatter plot between GDP per Capita and Score to visualize their relationship."
   ]
  },
  {
   "cell_type": "code",
   "execution_count": 20,
   "metadata": {},
   "outputs": [
    {
     "name": "stdout",
     "output_type": "stream",
     "text": [
      "0        Finland\n",
      "1        Denmark\n",
      "2        Iceland\n",
      "3         Sweden\n",
      "4         Israel\n",
      "5    Netherlands\n",
      "6         Norway\n",
      "7     Luxembourg\n",
      "8    Switzerland\n",
      "9      Australia\n",
      "Name: Country name, dtype: object\n",
      "0    7.741\n",
      "1    7.583\n",
      "2    7.525\n",
      "3    7.344\n",
      "4    7.341\n",
      "5    7.319\n",
      "6    7.302\n",
      "7    7.122\n",
      "8    7.060\n",
      "9    7.057\n",
      "Name: score, dtype: float64\n"
     ]
    }
   ],
   "source": [
    "happiest_countries = wlr.sort_values(by = 'score',ascending=False)\n",
    "x_values = happiest_countries['Country name'].head(10)\n",
    "print(x_values)\n",
    "y_values = happiest_countries['score'].head(10)\n",
    "print(y_values)\n",
    "# Create the bar plot\n",
    "plt.figure(figsize=(10, 6))\n",
    "plt.bar(x_values, y_values, color='skyblue')\n",
    "plt.title('Happiest Countries', fontsize=16)\n",
    "plt.xlabel('Country Name', fontsize=12)\n",
    "plt.ylabel('Happiness Score', fontsize=12)\n",
    "plt.xticks(rotation=45, ha='right')  # Rotate country names for better visibility\n",
    "plt.tight_layout()\n",
    "\n",
    "plt.show()"
   ]
  }
 ],
 "metadata": {
  "kernelspec": {
   "display_name": "Python 3",
   "language": "python",
   "name": "python3"
  },
  "language_info": {
   "codemirror_mode": {
    "name": "ipython",
    "version": 3
   },
   "file_extension": ".py",
   "mimetype": "text/x-python",
   "name": "python",
   "nbconvert_exporter": "python",
   "pygments_lexer": "ipython3",
   "version": "3.12.1"
  }
 },
 "nbformat": 4,
 "nbformat_minor": 2
}
