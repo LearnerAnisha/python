{
 "cells": [
  {
   "cell_type": "code",
   "execution_count": 1,
   "metadata": {},
   "outputs": [],
   "source": [
    "import pandas as pd\n",
    "import numpy as np\n",
    "import matplotlib as plt"
   ]
  },
  {
   "cell_type": "markdown",
   "metadata": {},
   "source": [
    "\n",
    "3.1 Problem - 1: Getting Started with Data Exploration - Some Warm up Exercises:\n",
    "1. Data Exploration and Understanding:\n"
   ]
  },
  {
   "cell_type": "markdown",
   "metadata": {},
   "source": [
    "\n",
    "• Dataset Overview:\n",
    "1. Load the dataset and display the first 10 rows.\n",
    "2. Identify the number of rows and columns in the dataset. \n",
    "3. List all the columns and their data types.\n"
   ]
  },
  {
   "cell_type": "code",
   "execution_count": 3,
   "metadata": {},
   "outputs": [
    {
     "data": {
      "text/html": [
       "<div>\n",
       "<style scoped>\n",
       "    .dataframe tbody tr th:only-of-type {\n",
       "        vertical-align: middle;\n",
       "    }\n",
       "\n",
       "    .dataframe tbody tr th {\n",
       "        vertical-align: top;\n",
       "    }\n",
       "\n",
       "    .dataframe thead th {\n",
       "        text-align: right;\n",
       "    }\n",
       "</style>\n",
       "<table border=\"1\" class=\"dataframe\">\n",
       "  <thead>\n",
       "    <tr style=\"text-align: right;\">\n",
       "      <th></th>\n",
       "      <th>Country name</th>\n",
       "      <th>score</th>\n",
       "      <th>Log GDP per capita</th>\n",
       "      <th>Social support</th>\n",
       "      <th>Healthy life expectancy</th>\n",
       "      <th>Freedom to make life choices</th>\n",
       "      <th>Generosity</th>\n",
       "      <th>Perceptions of corruption</th>\n",
       "      <th>Dystopia + residual</th>\n",
       "    </tr>\n",
       "  </thead>\n",
       "  <tbody>\n",
       "    <tr>\n",
       "      <th>0</th>\n",
       "      <td>Finland</td>\n",
       "      <td>7.741</td>\n",
       "      <td>1.844</td>\n",
       "      <td>1.572</td>\n",
       "      <td>0.695</td>\n",
       "      <td>0.859</td>\n",
       "      <td>0.142</td>\n",
       "      <td>0.546</td>\n",
       "      <td>2.082</td>\n",
       "    </tr>\n",
       "    <tr>\n",
       "      <th>1</th>\n",
       "      <td>Denmark</td>\n",
       "      <td>7.583</td>\n",
       "      <td>1.908</td>\n",
       "      <td>1.520</td>\n",
       "      <td>0.699</td>\n",
       "      <td>0.823</td>\n",
       "      <td>0.204</td>\n",
       "      <td>0.548</td>\n",
       "      <td>1.881</td>\n",
       "    </tr>\n",
       "    <tr>\n",
       "      <th>2</th>\n",
       "      <td>Iceland</td>\n",
       "      <td>7.525</td>\n",
       "      <td>1.881</td>\n",
       "      <td>1.617</td>\n",
       "      <td>0.718</td>\n",
       "      <td>0.819</td>\n",
       "      <td>0.258</td>\n",
       "      <td>0.182</td>\n",
       "      <td>2.050</td>\n",
       "    </tr>\n",
       "    <tr>\n",
       "      <th>3</th>\n",
       "      <td>Sweden</td>\n",
       "      <td>7.344</td>\n",
       "      <td>1.878</td>\n",
       "      <td>1.501</td>\n",
       "      <td>0.724</td>\n",
       "      <td>0.838</td>\n",
       "      <td>0.221</td>\n",
       "      <td>0.524</td>\n",
       "      <td>1.658</td>\n",
       "    </tr>\n",
       "    <tr>\n",
       "      <th>4</th>\n",
       "      <td>Israel</td>\n",
       "      <td>7.341</td>\n",
       "      <td>1.803</td>\n",
       "      <td>1.513</td>\n",
       "      <td>0.740</td>\n",
       "      <td>0.641</td>\n",
       "      <td>0.153</td>\n",
       "      <td>0.193</td>\n",
       "      <td>2.298</td>\n",
       "    </tr>\n",
       "    <tr>\n",
       "      <th>5</th>\n",
       "      <td>Netherlands</td>\n",
       "      <td>7.319</td>\n",
       "      <td>1.901</td>\n",
       "      <td>1.462</td>\n",
       "      <td>0.706</td>\n",
       "      <td>0.725</td>\n",
       "      <td>0.247</td>\n",
       "      <td>0.372</td>\n",
       "      <td>1.906</td>\n",
       "    </tr>\n",
       "    <tr>\n",
       "      <th>6</th>\n",
       "      <td>Norway</td>\n",
       "      <td>7.302</td>\n",
       "      <td>1.952</td>\n",
       "      <td>1.517</td>\n",
       "      <td>0.704</td>\n",
       "      <td>0.835</td>\n",
       "      <td>0.224</td>\n",
       "      <td>0.484</td>\n",
       "      <td>1.586</td>\n",
       "    </tr>\n",
       "    <tr>\n",
       "      <th>7</th>\n",
       "      <td>Luxembourg</td>\n",
       "      <td>7.122</td>\n",
       "      <td>2.141</td>\n",
       "      <td>1.355</td>\n",
       "      <td>0.708</td>\n",
       "      <td>0.801</td>\n",
       "      <td>0.146</td>\n",
       "      <td>0.432</td>\n",
       "      <td>1.540</td>\n",
       "    </tr>\n",
       "    <tr>\n",
       "      <th>8</th>\n",
       "      <td>Switzerland</td>\n",
       "      <td>7.060</td>\n",
       "      <td>1.970</td>\n",
       "      <td>1.425</td>\n",
       "      <td>0.747</td>\n",
       "      <td>0.759</td>\n",
       "      <td>0.173</td>\n",
       "      <td>0.498</td>\n",
       "      <td>1.488</td>\n",
       "    </tr>\n",
       "    <tr>\n",
       "      <th>9</th>\n",
       "      <td>Australia</td>\n",
       "      <td>7.057</td>\n",
       "      <td>1.854</td>\n",
       "      <td>1.461</td>\n",
       "      <td>0.692</td>\n",
       "      <td>0.756</td>\n",
       "      <td>0.225</td>\n",
       "      <td>0.323</td>\n",
       "      <td>1.745</td>\n",
       "    </tr>\n",
       "  </tbody>\n",
       "</table>\n",
       "</div>"
      ],
      "text/plain": [
       "  Country name  score  Log GDP per capita  Social support  \\\n",
       "0      Finland  7.741               1.844           1.572   \n",
       "1      Denmark  7.583               1.908           1.520   \n",
       "2      Iceland  7.525               1.881           1.617   \n",
       "3       Sweden  7.344               1.878           1.501   \n",
       "4       Israel  7.341               1.803           1.513   \n",
       "5  Netherlands  7.319               1.901           1.462   \n",
       "6       Norway  7.302               1.952           1.517   \n",
       "7   Luxembourg  7.122               2.141           1.355   \n",
       "8  Switzerland  7.060               1.970           1.425   \n",
       "9    Australia  7.057               1.854           1.461   \n",
       "\n",
       "   Healthy life expectancy  Freedom to make life choices  Generosity  \\\n",
       "0                    0.695                         0.859       0.142   \n",
       "1                    0.699                         0.823       0.204   \n",
       "2                    0.718                         0.819       0.258   \n",
       "3                    0.724                         0.838       0.221   \n",
       "4                    0.740                         0.641       0.153   \n",
       "5                    0.706                         0.725       0.247   \n",
       "6                    0.704                         0.835       0.224   \n",
       "7                    0.708                         0.801       0.146   \n",
       "8                    0.747                         0.759       0.173   \n",
       "9                    0.692                         0.756       0.225   \n",
       "\n",
       "   Perceptions of corruption  Dystopia + residual  \n",
       "0                      0.546                2.082  \n",
       "1                      0.548                1.881  \n",
       "2                      0.182                2.050  \n",
       "3                      0.524                1.658  \n",
       "4                      0.193                2.298  \n",
       "5                      0.372                1.906  \n",
       "6                      0.484                1.586  \n",
       "7                      0.432                1.540  \n",
       "8                      0.498                1.488  \n",
       "9                      0.323                1.745  "
      ]
     },
     "execution_count": 3,
     "metadata": {},
     "output_type": "execute_result"
    }
   ],
   "source": [
    "wlr = pd.read_csv(\"WorldHappinessResult.csv\")\n",
    "wlr.head(10)"
   ]
  },
  {
   "cell_type": "code",
   "execution_count": 10,
   "metadata": {},
   "outputs": [
    {
     "name": "stdout",
     "output_type": "stream",
     "text": [
      "Total number of rows: 143\n",
      "Total number of columns: 9\n"
     ]
    }
   ],
   "source": [
    "row,col = wlr.shape\n",
    "print(f\"Total number of rows: {row}\")\n",
    "print(f\"Total number of columns: {col}\")"
   ]
  },
  {
   "cell_type": "code",
   "execution_count": 16,
   "metadata": {},
   "outputs": [
    {
     "data": {
      "text/plain": [
       "Country name                     object\n",
       "score                           float64\n",
       "Log GDP per capita              float64\n",
       "Social support                  float64\n",
       "Healthy life expectancy         float64\n",
       "Freedom to make life choices    float64\n",
       "Generosity                      float64\n",
       "Perceptions of corruption       float64\n",
       "Dystopia + residual             float64\n",
       "dtype: object"
      ]
     },
     "execution_count": 16,
     "metadata": {},
     "output_type": "execute_result"
    }
   ],
   "source": [
    "wlr.dtypes"
   ]
  },
  {
   "cell_type": "markdown",
   "metadata": {},
   "source": [
    "\n",
    "• Basic Statistics:\n",
    "1. Calculate the mean, median, and standard deviation for the Score column.\n",
    "2. Identify the country with the highest and lowest happiness scores.\n"
   ]
  },
  {
   "cell_type": "code",
   "execution_count": 21,
   "metadata": {},
   "outputs": [
    {
     "name": "stdout",
     "output_type": "stream",
     "text": [
      "Mean of score is: 5.52758041958042\n",
      "Median of score is: 5.785\n",
      "Standard Deviation of score is: 1.1707165099442993\n"
     ]
    }
   ],
   "source": [
    "wlr_mean = wlr['score'].mean()\n",
    "wlr_median = wlr['score'].median()\n",
    "wlr_standard_deviation = wlr['score'].std()\n",
    "print(f\"Mean of score is: {wlr_mean}\")\n",
    "print(f\"Median of score is: {wlr_median}\")\n",
    "print(f\"Standard Deviation of score is: {wlr_standard_deviation}\")\n"
   ]
  },
  {
   "cell_type": "code",
   "execution_count": 25,
   "metadata": {},
   "outputs": [
    {
     "name": "stdout",
     "output_type": "stream",
     "text": [
      "Country with minimum happiness score is: Afghanistan\n",
      "Country with maximum happiness score is: Finland\n"
     ]
    }
   ],
   "source": [
    "country_wlrmin = wlr.loc[wlr['score'].idxmin(),'Country name']\n",
    "country_wlrmax = wlr.loc[wlr['score'].idxmax(),'Country name']\n",
    "print(f\"Country with minimum happiness score is: {country_wlrmin}\")\n",
    "print(f\"Country with maximum happiness score is: {country_wlrmax}\")"
   ]
  }
 ],
 "metadata": {
  "kernelspec": {
   "display_name": "Python 3",
   "language": "python",
   "name": "python3"
  },
  "language_info": {
   "codemirror_mode": {
    "name": "ipython",
    "version": 3
   },
   "file_extension": ".py",
   "mimetype": "text/x-python",
   "name": "python",
   "nbconvert_exporter": "python",
   "pygments_lexer": "ipython3",
   "version": "3.12.1"
  }
 },
 "nbformat": 4,
 "nbformat_minor": 2
}
